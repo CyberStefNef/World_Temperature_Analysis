{
 "cells": [
  {
   "cell_type": "code",
   "execution_count": 1,
   "metadata": {},
   "outputs": [],
   "source": [
    "from functions.data_by_country import data_by_country\n",
    "from utils.data_loader import load_data_parquet\n",
    "import matplotlib.pyplot as plt\n",
    "import pandas as pd\n",
    "import plotly.graph_objects as go\n",
    "import plotly.express as px\n",
    "import numpy as np\n",
    "import seaborn as sns\n",
    "from functions.adf_check import adf_check\n",
    "from functions.best_model_arma import best_model_arma\n",
    "from functions.acf_pacf import acf_pacf\n",
    "from functions.kmeans import KMeans\n",
    "from functions.isolation_forest import IsolationForest\n",
    "from functions.one_class_svm import OneClassSVM\n",
    "from sklearn.preprocessing import MinMaxScaler\n",
    "from statsmodels.tsa.seasonal import seasonal_decompose\n",
    "from functions.arma import ARMA"
   ]
  },
  {
   "cell_type": "code",
   "execution_count": 2,
   "metadata": {},
   "outputs": [
    {
     "name": "stderr",
     "output_type": "stream",
     "text": [
      "c:\\Users\\gaute\\OneDrive\\Malmø\\1st semester\\AI\\World_Temperature_Analysis\\functions\\data_by_country.py:3: FutureWarning: The default of observed=False is deprecated and will be changed to True in a future version of pandas. Pass observed=False to retain current behavior or observed=True to adopt the future default and silence this warning.\n",
      "  data = data[[\"Country\", \"AverageTemperature\", \"dt\", \"Country_ISO\"]\n"
     ]
    }
   ],
   "source": [
    "df = load_data_parquet()\n",
    "df = data_by_country(df)\n",
    "df = df.dropna()\n",
    "#df = df.set_index(\"dt\")"
   ]
  },
  {
   "cell_type": "code",
   "execution_count": 3,
   "metadata": {},
   "outputs": [
    {
     "data": {
      "text/html": [
       "<div>\n",
       "<style scoped>\n",
       "    .dataframe tbody tr th:only-of-type {\n",
       "        vertical-align: middle;\n",
       "    }\n",
       "\n",
       "    .dataframe tbody tr th {\n",
       "        vertical-align: top;\n",
       "    }\n",
       "\n",
       "    .dataframe thead th {\n",
       "        text-align: right;\n",
       "    }\n",
       "</style>\n",
       "<table border=\"1\" class=\"dataframe\">\n",
       "  <thead>\n",
       "    <tr style=\"text-align: right;\">\n",
       "      <th></th>\n",
       "      <th>Country</th>\n",
       "      <th>Country_ISO</th>\n",
       "      <th>dt</th>\n",
       "      <th>AverageTemperature</th>\n",
       "    </tr>\n",
       "  </thead>\n",
       "  <tbody>\n",
       "    <tr>\n",
       "      <th>1070</th>\n",
       "      <td>Afghanistan</td>\n",
       "      <td>AFG</td>\n",
       "      <td>1833-01-01</td>\n",
       "      <td>1.145000</td>\n",
       "    </tr>\n",
       "    <tr>\n",
       "      <th>1071</th>\n",
       "      <td>Afghanistan</td>\n",
       "      <td>AFG</td>\n",
       "      <td>1833-02-01</td>\n",
       "      <td>2.168400</td>\n",
       "    </tr>\n",
       "    <tr>\n",
       "      <th>1072</th>\n",
       "      <td>Afghanistan</td>\n",
       "      <td>AFG</td>\n",
       "      <td>1833-03-01</td>\n",
       "      <td>6.516200</td>\n",
       "    </tr>\n",
       "    <tr>\n",
       "      <th>1073</th>\n",
       "      <td>Afghanistan</td>\n",
       "      <td>AFG</td>\n",
       "      <td>1833-04-01</td>\n",
       "      <td>12.832200</td>\n",
       "    </tr>\n",
       "    <tr>\n",
       "      <th>1074</th>\n",
       "      <td>Afghanistan</td>\n",
       "      <td>AFG</td>\n",
       "      <td>1833-05-01</td>\n",
       "      <td>18.544800</td>\n",
       "    </tr>\n",
       "    <tr>\n",
       "      <th>...</th>\n",
       "      <td>...</td>\n",
       "      <td>...</td>\n",
       "      <td>...</td>\n",
       "      <td>...</td>\n",
       "    </tr>\n",
       "    <tr>\n",
       "      <th>81885153</th>\n",
       "      <td>Zimbabwe</td>\n",
       "      <td>ZWE</td>\n",
       "      <td>2013-04-01</td>\n",
       "      <td>19.770143</td>\n",
       "    </tr>\n",
       "    <tr>\n",
       "      <th>81885154</th>\n",
       "      <td>Zimbabwe</td>\n",
       "      <td>ZWE</td>\n",
       "      <td>2013-05-01</td>\n",
       "      <td>17.851714</td>\n",
       "    </tr>\n",
       "    <tr>\n",
       "      <th>81885155</th>\n",
       "      <td>Zimbabwe</td>\n",
       "      <td>ZWE</td>\n",
       "      <td>2013-06-01</td>\n",
       "      <td>16.527143</td>\n",
       "    </tr>\n",
       "    <tr>\n",
       "      <th>81885156</th>\n",
       "      <td>Zimbabwe</td>\n",
       "      <td>ZWE</td>\n",
       "      <td>2013-07-01</td>\n",
       "      <td>15.858857</td>\n",
       "    </tr>\n",
       "    <tr>\n",
       "      <th>81885157</th>\n",
       "      <td>Zimbabwe</td>\n",
       "      <td>ZWE</td>\n",
       "      <td>2013-08-01</td>\n",
       "      <td>18.746571</td>\n",
       "    </tr>\n",
       "  </tbody>\n",
       "</table>\n",
       "<p>374572 rows × 4 columns</p>\n",
       "</div>"
      ],
      "text/plain": [
       "              Country Country_ISO         dt  AverageTemperature\n",
       "1070      Afghanistan         AFG 1833-01-01            1.145000\n",
       "1071      Afghanistan         AFG 1833-02-01            2.168400\n",
       "1072      Afghanistan         AFG 1833-03-01            6.516200\n",
       "1073      Afghanistan         AFG 1833-04-01           12.832200\n",
       "1074      Afghanistan         AFG 1833-05-01           18.544800\n",
       "...               ...         ...        ...                 ...\n",
       "81885153     Zimbabwe         ZWE 2013-04-01           19.770143\n",
       "81885154     Zimbabwe         ZWE 2013-05-01           17.851714\n",
       "81885155     Zimbabwe         ZWE 2013-06-01           16.527143\n",
       "81885156     Zimbabwe         ZWE 2013-07-01           15.858857\n",
       "81885157     Zimbabwe         ZWE 2013-08-01           18.746571\n",
       "\n",
       "[374572 rows x 4 columns]"
      ]
     },
     "execution_count": 3,
     "metadata": {},
     "output_type": "execute_result"
    }
   ],
   "source": [
    "df"
   ]
  },
  {
   "cell_type": "code",
   "execution_count": 44,
   "metadata": {},
   "outputs": [],
   "source": [
    "# # First, group by both 'Country' and year and calculate the mean temperature\n",
    "# df_country_year = df.groupby(['Country',\"Country_ISO\", df.dt.dt.year])['AverageTemperature'].mean().reset_index()\n",
    "\n",
    "# # Rename the columns for clarity\n",
    "# df_country_year.columns = ['Country',\"Country_ISO\", 'dt', 'AverageTemperature']\n",
    "\n",
    "# # Now, df_country_year contains the average temperature per year per country\n",
    "# df_country_year = df_country_year.dropna()\n",
    "\n",
    "# # df_country_year = df_country_year.set_index(\"Year\")\n",
    "\n",
    "# df_country_year"
   ]
  },
  {
   "cell_type": "code",
   "execution_count": 5,
   "metadata": {},
   "outputs": [
    {
     "name": "stderr",
     "output_type": "stream",
     "text": [
      "c:\\Users\\gaute\\OneDrive\\Malmø\\1st semester\\AI\\World_Temperature_Analysis\\functions\\data_by_country.py:3: FutureWarning: The default of observed=False is deprecated and will be changed to True in a future version of pandas. Pass observed=False to retain current behavior or observed=True to adopt the future default and silence this warning.\n",
      "  data = data[[\"Country\", \"AverageTemperature\", \"dt\", \"Country_ISO\"]\n"
     ]
    },
    {
     "data": {
      "text/html": [
       "<div>\n",
       "<style scoped>\n",
       "    .dataframe tbody tr th:only-of-type {\n",
       "        vertical-align: middle;\n",
       "    }\n",
       "\n",
       "    .dataframe tbody tr th {\n",
       "        vertical-align: top;\n",
       "    }\n",
       "\n",
       "    .dataframe thead th {\n",
       "        text-align: right;\n",
       "    }\n",
       "</style>\n",
       "<table border=\"1\" class=\"dataframe\">\n",
       "  <thead>\n",
       "    <tr style=\"text-align: right;\">\n",
       "      <th></th>\n",
       "      <th>Country</th>\n",
       "      <th>Slope</th>\n",
       "    </tr>\n",
       "  </thead>\n",
       "  <tbody>\n",
       "    <tr>\n",
       "      <th>67</th>\n",
       "      <td>Indonesia</td>\n",
       "      <td>0.000422</td>\n",
       "    </tr>\n",
       "    <tr>\n",
       "      <th>117</th>\n",
       "      <td>Réunion</td>\n",
       "      <td>0.000409</td>\n",
       "    </tr>\n",
       "    <tr>\n",
       "      <th>91</th>\n",
       "      <td>Mauritius</td>\n",
       "      <td>0.000395</td>\n",
       "    </tr>\n",
       "    <tr>\n",
       "      <th>112</th>\n",
       "      <td>Philippines</td>\n",
       "      <td>0.000392</td>\n",
       "    </tr>\n",
       "    <tr>\n",
       "      <th>88</th>\n",
       "      <td>Malaysia</td>\n",
       "      <td>0.000391</td>\n",
       "    </tr>\n",
       "    <tr>\n",
       "      <th>...</th>\n",
       "      <td>...</td>\n",
       "      <td>...</td>\n",
       "    </tr>\n",
       "    <tr>\n",
       "      <th>39</th>\n",
       "      <td>Denmark</td>\n",
       "      <td>0.000145</td>\n",
       "    </tr>\n",
       "    <tr>\n",
       "      <th>47</th>\n",
       "      <td>Estonia</td>\n",
       "      <td>0.000145</td>\n",
       "    </tr>\n",
       "    <tr>\n",
       "      <th>136</th>\n",
       "      <td>Sweden</td>\n",
       "      <td>0.000143</td>\n",
       "    </tr>\n",
       "    <tr>\n",
       "      <th>65</th>\n",
       "      <td>Iceland</td>\n",
       "      <td>0.000136</td>\n",
       "    </tr>\n",
       "    <tr>\n",
       "      <th>111</th>\n",
       "      <td>Peru</td>\n",
       "      <td>0.000135</td>\n",
       "    </tr>\n",
       "  </tbody>\n",
       "</table>\n",
       "<p>159 rows × 2 columns</p>\n",
       "</div>"
      ],
      "text/plain": [
       "         Country     Slope\n",
       "67     Indonesia  0.000422\n",
       "117      Réunion  0.000409\n",
       "91     Mauritius  0.000395\n",
       "112  Philippines  0.000392\n",
       "88      Malaysia  0.000391\n",
       "..           ...       ...\n",
       "39       Denmark  0.000145\n",
       "47       Estonia  0.000145\n",
       "136       Sweden  0.000143\n",
       "65       Iceland  0.000136\n",
       "111         Peru  0.000135\n",
       "\n",
       "[159 rows x 2 columns]"
      ]
     },
     "execution_count": 5,
     "metadata": {},
     "output_type": "execute_result"
    }
   ],
   "source": [
    "df2 = load_data_parquet()\n",
    "df2 = data_by_country(df2)\n",
    "df2 = df2.dropna()\n",
    "df2 = df2.pivot(index=\"dt\", columns=\"Country\",\n",
    "              values='AverageTemperature').dropna()\n",
    "\n",
    "trend_components = {}\n",
    "slopes = {}\n",
    "for country in df2.columns:\n",
    "    result = seasonal_decompose(df2[country], model='additive', period=12)\n",
    "    trend_components[country] = result.trend.dropna()\n",
    "all_trends = pd.concat(trend_components, axis=1)\n",
    "\n",
    "scaler = MinMaxScaler()\n",
    "all_normalized_trends = pd.DataFrame(scaler.fit_transform(\n",
    "    all_trends), index=all_trends.index, columns=all_trends.columns)\n",
    "# Calculate the slope based on the normalized trend\n",
    "for country in all_normalized_trends.columns:\n",
    "    x_data = range(len(all_normalized_trends[country]))\n",
    "    y_data = all_normalized_trends[country].dropna().values\n",
    "\n",
    "    slope, _ = np.polyfit(x_data, y_data, 1)\n",
    "    slopes[country] = slope\n",
    "\n",
    "slopes_df = pd.DataFrame(list(slopes.items()), columns=['Country', 'Slope'])\n",
    "slopes_df = slopes_df.sort_values(by='Slope', ascending=False)\n",
    "\n",
    "slopes_df"
   ]
  },
  {
   "cell_type": "markdown",
   "metadata": {},
   "source": [
    "# Clustering"
   ]
  },
  {
   "cell_type": "code",
   "execution_count": 6,
   "metadata": {},
   "outputs": [
    {
     "data": {
      "image/png": "[encoded data removed]",
      "text/plain": [
       "<Figure size 640x480 with 1 Axes>"
      ]
     },
     "metadata": {},
     "output_type": "display_data"
    }
   ],
   "source": [
    "slopes_arr = np.array(slopes_df['Slope']).reshape(-1, 1)\n",
    "\n",
    "inertia = []\n",
    "\n",
    "for i in range(1, 11):\n",
    "    # Initialize and fit the KMeans model\n",
    "    kmeans = KMeans(k=i)\n",
    "    kmeans.fit(slopes_arr)\n",
    "    \n",
    "    # Append inertia to the list\n",
    "    inertia.append(kmeans.inertia_)\n",
    "    \n",
    "    \n",
    "# Plot the elbow curve\n",
    "plt.plot(range(1, 11), inertia, marker='o')\n",
    "plt.title('Elbow Curve')\n",
    "plt.xlabel('Number of Clusters (k)')\n",
    "plt.ylabel('Inertia')\n",
    "plt.show()"
   ]
  },
  {
   "cell_type": "code",
   "execution_count": 7,
   "metadata": {},
   "outputs": [
    {
     "data": {
      "text/html": [
       "<div>\n",
       "<style scoped>\n",
       "    .dataframe tbody tr th:only-of-type {\n",
       "        vertical-align: middle;\n",
       "    }\n",
       "\n",
       "    .dataframe tbody tr th {\n",
       "        vertical-align: top;\n",
       "    }\n",
       "\n",
       "    .dataframe thead th {\n",
       "        text-align: right;\n",
       "    }\n",
       "</style>\n",
       "<table border=\"1\" class=\"dataframe\">\n",
       "  <thead>\n",
       "    <tr style=\"text-align: right;\">\n",
       "      <th></th>\n",
       "      <th>Country</th>\n",
       "      <th>Slope</th>\n",
       "      <th>Cluster</th>\n",
       "      <th>Country_ISO</th>\n",
       "    </tr>\n",
       "  </thead>\n",
       "  <tbody>\n",
       "    <tr>\n",
       "      <th>0</th>\n",
       "      <td>Indonesia</td>\n",
       "      <td>0.000422</td>\n",
       "      <td>2</td>\n",
       "      <td>IDN</td>\n",
       "    </tr>\n",
       "    <tr>\n",
       "      <th>1</th>\n",
       "      <td>Réunion</td>\n",
       "      <td>0.000409</td>\n",
       "      <td>2</td>\n",
       "      <td>REU</td>\n",
       "    </tr>\n",
       "    <tr>\n",
       "      <th>2</th>\n",
       "      <td>Mauritius</td>\n",
       "      <td>0.000395</td>\n",
       "      <td>2</td>\n",
       "      <td>MUS</td>\n",
       "    </tr>\n",
       "    <tr>\n",
       "      <th>3</th>\n",
       "      <td>Philippines</td>\n",
       "      <td>0.000392</td>\n",
       "      <td>2</td>\n",
       "      <td>PHL</td>\n",
       "    </tr>\n",
       "    <tr>\n",
       "      <th>4</th>\n",
       "      <td>Malaysia</td>\n",
       "      <td>0.000391</td>\n",
       "      <td>2</td>\n",
       "      <td>MYS</td>\n",
       "    </tr>\n",
       "    <tr>\n",
       "      <th>...</th>\n",
       "      <td>...</td>\n",
       "      <td>...</td>\n",
       "      <td>...</td>\n",
       "      <td>...</td>\n",
       "    </tr>\n",
       "    <tr>\n",
       "      <th>154</th>\n",
       "      <td>Denmark</td>\n",
       "      <td>0.000145</td>\n",
       "      <td>1</td>\n",
       "      <td>DNK</td>\n",
       "    </tr>\n",
       "    <tr>\n",
       "      <th>155</th>\n",
       "      <td>Estonia</td>\n",
       "      <td>0.000145</td>\n",
       "      <td>1</td>\n",
       "      <td>EST</td>\n",
       "    </tr>\n",
       "    <tr>\n",
       "      <th>156</th>\n",
       "      <td>Sweden</td>\n",
       "      <td>0.000143</td>\n",
       "      <td>1</td>\n",
       "      <td>SWE</td>\n",
       "    </tr>\n",
       "    <tr>\n",
       "      <th>157</th>\n",
       "      <td>Iceland</td>\n",
       "      <td>0.000136</td>\n",
       "      <td>1</td>\n",
       "      <td>ISL</td>\n",
       "    </tr>\n",
       "    <tr>\n",
       "      <th>158</th>\n",
       "      <td>Peru</td>\n",
       "      <td>0.000135</td>\n",
       "      <td>1</td>\n",
       "      <td>PER</td>\n",
       "    </tr>\n",
       "  </tbody>\n",
       "</table>\n",
       "<p>159 rows × 4 columns</p>\n",
       "</div>"
      ],
      "text/plain": [
       "         Country     Slope  Cluster Country_ISO\n",
       "0      Indonesia  0.000422        2         IDN\n",
       "1        Réunion  0.000409        2         REU\n",
       "2      Mauritius  0.000395        2         MUS\n",
       "3    Philippines  0.000392        2         PHL\n",
       "4       Malaysia  0.000391        2         MYS\n",
       "..           ...       ...      ...         ...\n",
       "154      Denmark  0.000145        1         DNK\n",
       "155      Estonia  0.000145        1         EST\n",
       "156       Sweden  0.000143        1         SWE\n",
       "157      Iceland  0.000136        1         ISL\n",
       "158         Peru  0.000135        1         PER\n",
       "\n",
       "[159 rows x 4 columns]"
      ]
     },
     "execution_count": 7,
     "metadata": {},
     "output_type": "execute_result"
    }
   ],
   "source": [
    "    \n",
    "#Applying K-means clustering\n",
    "n_clusters = 3 \n",
    "kmeans = KMeans(k=n_clusters)\n",
    "kmeans.fit(slopes_arr)\n",
    "\n",
    "#Assigning cluster labels to the DataFrame\n",
    "slopes_df['Cluster'] = kmeans.labels_\n",
    "slopes_df = slopes_df.sort_values(by='Slope', ascending=False)\n",
    "slopes_df = slopes_df.merge(df[['Country', 'Country_ISO']].drop_duplicates(), on='Country', how='left')\n",
    "slopes_df"
   ]
  },
  {
   "cell_type": "code",
   "execution_count": 8,
   "metadata": {},
   "outputs": [
    {
     "name": "stderr",
     "output_type": "stream",
     "text": [
      "C:\\Users\\gaute\\AppData\\Local\\Temp\\ipykernel_1440\\4138414442.py:10: FutureWarning: \n",
      "\n",
      "Passing `palette` without assigning `hue` is deprecated and will be removed in v0.14.0. Assign the `x` variable to `hue` and set `legend=False` for the same effect.\n",
      "\n",
      "  sns.barplot(x='Cluster', y='Number of Countries', data=cluster_counts_df, palette='viridis')\n"
     ]
    },
    {
     "data": {
      "image/png": "[encoded data removed]",
      "text/plain": [
       "<Figure size 1000x600 with 1 Axes>"
      ]
     },
     "metadata": {},
     "output_type": "display_data"
    }
   ],
   "source": [
    "# Create a DataFrame to store unique countries in each cluster\n",
    "# Count the number of unique countries in each cluster\n",
    "cluster_counts = slopes_df['Cluster'].value_counts()\n",
    "\n",
    "# Create a DataFrame to store cluster counts\n",
    "cluster_counts_df = pd.DataFrame({'Cluster': cluster_counts.index, 'Number of Countries': cluster_counts.values})\n",
    "\n",
    "# Plot the bar chart\n",
    "plt.figure(figsize=(10, 6))\n",
    "sns.barplot(x='Cluster', y='Number of Countries', data=cluster_counts_df, palette='viridis')\n",
    "plt.xlabel('Cluster')\n",
    "plt.ylabel('Number of Unique Countries')\n",
    "plt.title('Number of Unique Countries in Each Cluster')\n",
    "plt.show()"
   ]
  },
  {
   "cell_type": "code",
   "execution_count": 9,
   "metadata": {},
   "outputs": [
    {
     "data": {
      "application/vnd.plotly.v1+json": {
       "config": {
        "plotlyServerURL": "https://plot.ly"
       },
       "data": [
        {
         "coloraxis": "coloraxis",
         "geo": "geo",
         "hovertemplate": "<b>%{hovertext}</b><br><br>Country_ISO=%{location}<br>Cluster=%{z}<extra></extra>",
         "hovertext": [
          "Indonesia",
          "Réunion",
          "Mauritius",
          "Philippines",
          "Malaysia",
          "Dominican Republic",
          "Singapore",
          "Suriname",
          "Somalia",
          "Madagascar",
          "Jamaica",
          "Puerto Rico",
          "Uganda",
          "Haiti",
          "Lesotho",
          "Cuba",
          "South Africa",
          "Mozambique",
          "Guyana",
          "Sri Lanka",
          "Kenya",
          "Japan",
          "Bahamas",
          "Côte d'Ivoire",
          "Colombia",
          "Yemen",
          "Brazil",
          "Tanzania, United Republic of",
          "Liberia",
          "Sierra Leone",
          "Congo, The Democratic Republic of the",
          "Guinea",
          "El Salvador",
          "Eswatini",
          "Taiwan, Province of China",
          "Australia",
          "Rwanda",
          "Gabon",
          "Venezuela, Bolivarian Republic of",
          "Angola",
          "Ghana",
          "Guatemala",
          "Argentina",
          "Djibouti",
          "Papua New Guinea",
          "Congo",
          "Chile",
          "Panama",
          "Burkina Faso",
          "Guinea-Bissau",
          "Oman",
          "Malawi",
          "Togo",
          "Costa Rica",
          "Nicaragua",
          "Honduras",
          "Equatorial Guinea",
          "Burundi",
          "Mali",
          "Cambodia",
          "Thailand",
          "Ethiopia",
          "Eritrea",
          "Bolivia, Plurinational State of",
          "Benin",
          "Viet Nam",
          "Botswana",
          "Uruguay",
          "New Zealand",
          "Sudan",
          "Nigeria",
          "Zambia",
          "Saudi Arabia",
          "Central African Republic",
          "Namibia",
          "Senegal",
          "Cameroon",
          "Gambia",
          "Mexico",
          "Korea, Republic of",
          "Chad",
          "United Arab Emirates",
          "Qatar",
          "Paraguay",
          "Bahrain",
          "Hong Kong",
          "Myanmar",
          "Zimbabwe",
          "Azerbaijan",
          "India",
          "Mauritania",
          "Cyprus",
          "China",
          "United States",
          "Turkmenistan",
          "Afghanistan",
          "Russian Federation",
          "Iran, Islamic Republic of",
          "Bangladesh",
          "Lao People's Democratic Republic",
          "Tajikistan",
          "Uzbekistan",
          "Georgia",
          "Armenia",
          "Ireland",
          "Israel",
          "Niger",
          "Libya",
          "Lebanon",
          "Morocco",
          "Kazakhstan",
          "Nepal",
          "Jordan",
          "Egypt",
          "Pakistan",
          "Spain",
          "Syrian Arab Republic",
          "Iraq",
          "Algeria",
          "Italy",
          "Tunisia",
          "Mongolia",
          "Canada",
          "Portugal",
          "United Kingdom",
          "Ukraine",
          "Croatia",
          "France",
          "Turkey",
          "Slovenia",
          "Austria",
          "Bosnia and Herzegovina",
          "Albania",
          "Norway",
          "Slovakia",
          "Hungary",
          "Switzerland",
          "Belarus",
          "Czechia",
          "Romania",
          "Greece",
          "Moldova, Republic of",
          "Montenegro",
          "Poland",
          "Ecuador",
          "Bulgaria",
          "Netherlands",
          "Belgium",
          "Germany",
          "Serbia",
          "North Macedonia",
          "Latvia",
          "Lithuania",
          "Finland",
          "Denmark",
          "Estonia",
          "Sweden",
          "Iceland",
          "Peru"
         ],
         "locations": [
          "IDN",
          "REU",
          "MUS",
          "PHL",
          "MYS",
          "DOM",
          "SGP",
          "SUR",
          "SOM",
          "MDG",
          "JAM",
          "PRI",
          "UGA",
          "HTI",
          "LSO",
          "CUB",
          "ZAF",
          "MOZ",
          "GUY",
          "LKA",
          "KEN",
          "JPN",
          "BHS",
          "CIV",
          "COL",
          "YEM",
          "BRA",
          "TZA",
          "LBR",
          "SLE",
          "COD",
          "GIN",
          "SLV",
          "SWZ",
          "TWN",
          "AUS",
          "RWA",
          "GAB",
          "VEN",
          "AGO",
          "GHA",
          "GTM",
          "ARG",
          "DJI",
          "PNG",
          "COG",
          "CHL",
          "PAN",
          "BFA",
          "GNB",
          "OMN",
          "MWI",
          "TGO",
          "CRI",
          "NIC",
          "HND",
          "GNQ",
          "BDI",
          "MLI",
          "KHM",
          "THA",
          "ETH",
          "ERI",
          "BOL",
          "BEN",
          "VNM",
          "BWA",
          "URY",
          "NZL",
          "SDN",
          "NGA",
          "ZMB",
          "SAU",
          "CAF",
          "NAM",
          "SEN",
          "CMR",
          "GMB",
          "MEX",
          "KOR",
          "TCD",
          "ARE",
          "QAT",
          "PRY",
          "BHR",
          "HKG",
          "MMR",
          "ZWE",
          "AZE",
          "IND",
          "MRT",
          "CYP",
          "CHN",
          "USA",
          "TKM",
          "AFG",
          "RUS",
          "IRN",
          "BGD",
          "LAO",
          "TJK",
          "UZB",
          "GEO",
          "ARM",
          "IRL",
          "ISR",
          "NER",
          "LBY",
          "LBN",
          "MAR",
          "KAZ",
          "NPL",
          "JOR",
          "EGY",
          "PAK",
          "ESP",
          "SYR",
          "IRQ",
          "DZA",
          "ITA",
          "TUN",
          "MNG",
          "CAN",
          "PRT",
          "GBR",
          "UKR",
          "HRV",
          "FRA",
          "TUR",
          "SVN",
          "AUT",
          "BIH",
          "ALB",
          "NOR",
          "SVK",
          "HUN",
          "CHE",
          "BLR",
          "CZE",
          "ROU",
          "GRC",
          "MDA",
          "MNE",
          "POL",
          "ECU",
          "BGR",
          "NLD",
          "BEL",
          "DEU",
          "SRB",
          "MKD",
          "LVA",
          "LTU",
          "FIN",
          "DNK",
          "EST",
          "SWE",
          "ISL",
          "PER"
         ],
         "name": "",
         "type": "choropleth",
         "z": [
          2,
          2,
          2,
          2,
          2,
          2,
          2,
          2,
          2,
          2,
          2,
          2,
          2,
          2,
          2,
          2,
          2,
          2,
          2,
          2,
          2,
          2,
          2,
          2,
          2,
          2,
          2,
          2,
          2,
          2,
          2,
          2,
          2,
          2,
          2,
          2,
          2,
          2,
          2,
          2,
          2,
          2,
          2,
          2,
          2,
          2,
          2,
          2,
          2,
          2,
          2,
          2,
          2,
          0,
          0,
          0,
          0,
          0,
          0,
          0,
          0,
          0,
          0,
          0,
          0,
          0,
          0,
          0,
          0,
          0,
          0,
          0,
          0,
          0,
          0,
          0,
          0,
          0,
          0,
          0,
          0,
          0,
          0,
          0,
          0,
          0,
          0,
          0,
          0,
          0,
          0,
          0,
          0,
          0,
          0,
          0,
          0,
          0,
          0,
          0,
          0,
          0,
          0,
          0,
          0,
          0,
          0,
          0,
          1,
          1,
          1,
          1,
          1,
          1,
          1,
          1,
          1,
          1,
          1,
          1,
          1,
          1,
          1,
          1,
          1,
          1,
          1,
          1,
          1,
          1,
          1,
          1,
          1,
          1,
          1,
          1,
          1,
          1,
          1,
          1,
          1,
          1,
          1,
          1,
          1,
          1,
          1,
          1,
          1,
          1,
          1,
          1,
          1,
          1,
          1,
          1,
          1,
          1,
          1
         ]
        }
       ],
       "layout": {
        "coloraxis": {
         "colorbar": {
          "title": {
           "text": "Cluster"
          }
         },
         "colorscale": [
          [
           0,
           "#440154"
          ],
          [
           0.1111111111111111,
           "#482878"
          ],
          [
           0.2222222222222222,
           "#3e4989"
          ],
          [
           0.3333333333333333,
           "#31688e"
          ],
          [
           0.4444444444444444,
           "#26828e"
          ],
          [
           0.5555555555555556,
           "#1f9e89"
          ],
          [
           0.6666666666666666,
           "#35b779"
          ],
          [
           0.7777777777777778,
           "#6ece58"
          ],
          [
           0.8888888888888888,
           "#b5de2b"
          ],
          [
           1,
           "#fde725"
          ]
         ]
        },
        "geo": {
         "center": {},
         "domain": {
          "x": [
           0,
           1
          ],
          "y": [
           0,
           1
          ]
         }
        },
        "legend": {
         "tracegroupgap": 0
        },
        "template": {
         "data": {
          "bar": [
           {
            "error_x": {
             "color": "#2a3f5f"
            },
            "error_y": {
             "color": "#2a3f5f"
            },
            "marker": {
             "line": {
              "color": "#E5ECF6",
              "width": 0.5
             },
             "pattern": {
              "fillmode": "overlay",
              "size": 10,
              "solidity": 0.2
             }
            },
            "type": "bar"
           }
          ],
          "barpolar": [
           {
            "marker": {
             "line": {
              "color": "#E5ECF6",
              "width": 0.5
             },
             "pattern": {
              "fillmode": "overlay",
              "size": 10,
              "solidity": 0.2
             }
            },
            "type": "barpolar"
           }
          ],
          "carpet": [
           {
            "aaxis": {
             "endlinecolor": "#2a3f5f",
             "gridcolor": "white",
             "linecolor": "white",
             "minorgridcolor": "white",
             "startlinecolor": "#2a3f5f"
            },
            "baxis": {
             "endlinecolor": "#2a3f5f",
             "gridcolor": "white",
             "linecolor": "white",
             "minorgridcolor": "white",
             "startlinecolor": "#2a3f5f"
            },
            "type": "carpet"
           }
          ],
          "choropleth": [
           {
            "colorbar": {
             "outlinewidth": 0,
             "ticks": ""
            },
            "type": "choropleth"
           }
          ],
          "contour": [
           {
            "colorbar": {
             "outlinewidth": 0,
             "ticks": ""
            },
            "colorscale": [
             [
              0,
              "#0d0887"
             ],
             [
              0.1111111111111111,
              "#46039f"
             ],
             [
              0.2222222222222222,
              "#7201a8"
             ],
             [
              0.3333333333333333,
              "#9c179e"
             ],
             [
              0.4444444444444444,
              "#bd3786"
             ],
             [
              0.5555555555555556,
              "#d8576b"
             ],
             [
              0.6666666666666666,
              "#ed7953"
             ],
             [
              0.7777777777777778,
              "#fb9f3a"
             ],
             [
              0.8888888888888888,
              "#fdca26"
             ],
             [
              1,
              "#f0f921"
             ]
            ],
            "type": "contour"
           }
          ],
          "contourcarpet": [
           {
            "colorbar": {
             "outlinewidth": 0,
             "ticks": ""
            },
            "type": "contourcarpet"
           }
          ],
          "heatmap": [
           {
            "colorbar": {
             "outlinewidth": 0,
             "ticks": ""
            },
            "colorscale": [
             [
              0,
              "#0d0887"
             ],
             [
              0.1111111111111111,
              "#46039f"
             ],
             [
              0.2222222222222222,
              "#7201a8"
             ],
             [
              0.3333333333333333,
              "#9c179e"
             ],
             [
              0.4444444444444444,
              "#bd3786"
             ],
             [
              0.5555555555555556,
              "#d8576b"
             ],
             [
              0.6666666666666666,
              "#ed7953"
             ],
             [
              0.7777777777777778,
              "#fb9f3a"
             ],
             [
              0.8888888888888888,
              "#fdca26"
             ],
             [
              1,
              "#f0f921"
             ]
            ],
            "type": "heatmap"
           }
          ],
          "heatmapgl": [
           {
            "colorbar": {
             "outlinewidth": 0,
             "ticks": ""
            },
            "colorscale": [
             [
              0,
              "#0d0887"
             ],
             [
              0.1111111111111111,
              "#46039f"
             ],
             [
              0.2222222222222222,
              "#7201a8"
             ],
             [
              0.3333333333333333,
              "#9c179e"
             ],
             [
              0.4444444444444444,
              "#bd3786"
             ],
             [
              0.5555555555555556,
              "#d8576b"
             ],
             [
              0.6666666666666666,
              "#ed7953"
             ],
             [
              0.7777777777777778,
              "#fb9f3a"
             ],
             [
              0.8888888888888888,
              "#fdca26"
             ],
             [
              1,
              "#f0f921"
             ]
            ],
            "type": "heatmapgl"
           }
          ],
          "histogram": [
           {
            "marker": {
             "pattern": {
              "fillmode": "overlay",
              "size": 10,
              "solidity": 0.2
             }
            },
            "type": "histogram"
           }
          ],
          "histogram2d": [
           {
            "colorbar": {
             "outlinewidth": 0,
             "ticks": ""
            },
            "colorscale": [
             [
              0,
              "#0d0887"
             ],
             [
              0.1111111111111111,
              "#46039f"
             ],
             [
              0.2222222222222222,
              "#7201a8"
             ],
             [
              0.3333333333333333,
              "#9c179e"
             ],
             [
              0.4444444444444444,
              "#bd3786"
             ],
             [
              0.5555555555555556,
              "#d8576b"
             ],
             [
              0.6666666666666666,
              "#ed7953"
             ],
             [
              0.7777777777777778,
              "#fb9f3a"
             ],
             [
              0.8888888888888888,
              "#fdca26"
             ],
             [
              1,
              "#f0f921"
             ]
            ],
            "type": "histogram2d"
           }
          ],
          "histogram2dcontour": [
           {
            "colorbar": {
             "outlinewidth": 0,
             "ticks": ""
            },
            "colorscale": [
             [
              0,
              "#0d0887"
             ],
             [
              0.1111111111111111,
              "#46039f"
             ],
             [
              0.2222222222222222,
              "#7201a8"
             ],
             [
              0.3333333333333333,
              "#9c179e"
             ],
             [
              0.4444444444444444,
              "#bd3786"
             ],
             [
              0.5555555555555556,
              "#d8576b"
             ],
             [
              0.6666666666666666,
              "#ed7953"
             ],
             [
              0.7777777777777778,
              "#fb9f3a"
             ],
             [
              0.8888888888888888,
              "#fdca26"
             ],
             [
              1,
              "#f0f921"
             ]
            ],
            "type": "histogram2dcontour"
           }
          ],
          "mesh3d": [
           {
            "colorbar": {
             "outlinewidth": 0,
             "ticks": ""
            },
            "type": "mesh3d"
           }
          ],
          "parcoords": [
           {
            "line": {
             "colorbar": {
              "outlinewidth": 0,
              "ticks": ""
             }
            },
            "type": "parcoords"
           }
          ],
          "pie": [
           {
            "automargin": true,
            "type": "pie"
           }
          ],
          "scatter": [
           {
            "fillpattern": {
             "fillmode": "overlay",
             "size": 10,
             "solidity": 0.2
            },
            "type": "scatter"
           }
          ],
          "scatter3d": [
           {
            "line": {
             "colorbar": {
              "outlinewidth": 0,
              "ticks": ""
             }
            },
            "marker": {
             "colorbar": {
              "outlinewidth": 0,
              "ticks": ""
             }
            },
            "type": "scatter3d"
           }
          ],
          "scattercarpet": [
           {
            "marker": {
             "colorbar": {
              "outlinewidth": 0,
              "ticks": ""
             }
            },
            "type": "scattercarpet"
           }
          ],
          "scattergeo": [
           {
            "marker": {
             "colorbar": {
              "outlinewidth": 0,
              "ticks": ""
             }
            },
            "type": "scattergeo"
           }
          ],
          "scattergl": [
           {
            "marker": {
             "colorbar": {
              "outlinewidth": 0,
              "ticks": ""
             }
            },
            "type": "scattergl"
           }
          ],
          "scattermapbox": [
           {
            "marker": {
             "colorbar": {
              "outlinewidth": 0,
              "ticks": ""
             }
            },
            "type": "scattermapbox"
           }
          ],
          "scatterpolar": [
           {
            "marker": {
             "colorbar": {
              "outlinewidth": 0,
              "ticks": ""
             }
            },
            "type": "scatterpolar"
           }
          ],
          "scatterpolargl": [
           {
            "marker": {
             "colorbar": {
              "outlinewidth": 0,
              "ticks": ""
             }
            },
            "type": "scatterpolargl"
           }
          ],
          "scatterternary": [
           {
            "marker": {
             "colorbar": {
              "outlinewidth": 0,
              "ticks": ""
             }
            },
            "type": "scatterternary"
           }
          ],
          "surface": [
           {
            "colorbar": {
             "outlinewidth": 0,
             "ticks": ""
            },
            "colorscale": [
             [
              0,
              "#0d0887"
             ],
             [
              0.1111111111111111,
              "#46039f"
             ],
             [
              0.2222222222222222,
              "#7201a8"
             ],
             [
              0.3333333333333333,
              "#9c179e"
             ],
             [
              0.4444444444444444,
              "#bd3786"
             ],
             [
              0.5555555555555556,
              "#d8576b"
             ],
             [
              0.6666666666666666,
              "#ed7953"
             ],
             [
              0.7777777777777778,
              "#fb9f3a"
             ],
             [
              0.8888888888888888,
              "#fdca26"
             ],
             [
              1,
              "#f0f921"
             ]
            ],
            "type": "surface"
           }
          ],
          "table": [
           {
            "cells": {
             "fill": {
              "color": "#EBF0F8"
             },
             "line": {
              "color": "white"
             }
            },
            "header": {
             "fill": {
              "color": "#C8D4E3"
             },
             "line": {
              "color": "white"
             }
            },
            "type": "table"
           }
          ]
         },
         "layout": {
          "annotationdefaults": {
           "arrowcolor": "#2a3f5f",
           "arrowhead": 0,
           "arrowwidth": 1
          },
          "autotypenumbers": "strict",
          "coloraxis": {
           "colorbar": {
            "outlinewidth": 0,
            "ticks": ""
           }
          },
          "colorscale": {
           "diverging": [
            [
             0,
             "#8e0152"
            ],
            [
             0.1,
             "#c51b7d"
            ],
            [
             0.2,
             "#de77ae"
            ],
            [
             0.3,
             "#f1b6da"
            ],
            [
             0.4,
             "#fde0ef"
            ],
            [
             0.5,
             "#f7f7f7"
            ],
            [
             0.6,
             "#e6f5d0"
            ],
            [
             0.7,
             "#b8e186"
            ],
            [
             0.8,
             "#7fbc41"
            ],
            [
             0.9,
             "#4d9221"
            ],
            [
             1,
             "#276419"
            ]
           ],
           "sequential": [
            [
             0,
             "#0d0887"
            ],
            [
             0.1111111111111111,
             "#46039f"
            ],
            [
             0.2222222222222222,
             "#7201a8"
            ],
            [
             0.3333333333333333,
             "#9c179e"
            ],
            [
             0.4444444444444444,
             "#bd3786"
            ],
            [
             0.5555555555555556,
             "#d8576b"
            ],
            [
             0.6666666666666666,
             "#ed7953"
            ],
            [
             0.7777777777777778,
             "#fb9f3a"
            ],
            [
             0.8888888888888888,
             "#fdca26"
            ],
            [
             1,
             "#f0f921"
            ]
           ],
           "sequentialminus": [
            [
             0,
             "#0d0887"
            ],
            [
             0.1111111111111111,
             "#46039f"
            ],
            [
             0.2222222222222222,
             "#7201a8"
            ],
            [
             0.3333333333333333,
             "#9c179e"
            ],
            [
             0.4444444444444444,
             "#bd3786"
            ],
            [
             0.5555555555555556,
             "#d8576b"
            ],
            [
             0.6666666666666666,
             "#ed7953"
            ],
            [
             0.7777777777777778,
             "#fb9f3a"
            ],
            [
             0.8888888888888888,
             "#fdca26"
            ],
            [
             1,
             "#f0f921"
            ]
           ]
          },
          "colorway": [
           "#636efa",
           "#EF553B",
           "#00cc96",
           "#ab63fa",
           "#FFA15A",
           "#19d3f3",
           "#FF6692",
           "#B6E880",
           "#FF97FF",
           "#FECB52"
          ],
          "font": {
           "color": "#2a3f5f"
          },
          "geo": {
           "bgcolor": "white",
           "lakecolor": "white",
           "landcolor": "#E5ECF6",
           "showlakes": true,
           "showland": true,
           "subunitcolor": "white"
          },
          "hoverlabel": {
           "align": "left"
          },
          "hovermode": "closest",
          "mapbox": {
           "style": "light"
          },
          "paper_bgcolor": "white",
          "plot_bgcolor": "#E5ECF6",
          "polar": {
           "angularaxis": {
            "gridcolor": "white",
            "linecolor": "white",
            "ticks": ""
           },
           "bgcolor": "#E5ECF6",
           "radialaxis": {
            "gridcolor": "white",
            "linecolor": "white",
            "ticks": ""
           }
          },
          "scene": {
           "xaxis": {
            "backgroundcolor": "#E5ECF6",
            "gridcolor": "white",
            "gridwidth": 2,
            "linecolor": "white",
            "showbackground": true,
            "ticks": "",
            "zerolinecolor": "white"
           },
           "yaxis": {
            "backgroundcolor": "#E5ECF6",
            "gridcolor": "white",
            "gridwidth": 2,
            "linecolor": "white",
            "showbackground": true,
            "ticks": "",
            "zerolinecolor": "white"
           },
           "zaxis": {
            "backgroundcolor": "#E5ECF6",
            "gridcolor": "white",
            "gridwidth": 2,
            "linecolor": "white",
            "showbackground": true,
            "ticks": "",
            "zerolinecolor": "white"
           }
          },
          "shapedefaults": {
           "line": {
            "color": "#2a3f5f"
           }
          },
          "ternary": {
           "aaxis": {
            "gridcolor": "white",
            "linecolor": "white",
            "ticks": ""
           },
           "baxis": {
            "gridcolor": "white",
            "linecolor": "white",
            "ticks": ""
           },
           "bgcolor": "#E5ECF6",
           "caxis": {
            "gridcolor": "white",
            "linecolor": "white",
            "ticks": ""
           }
          },
          "title": {
           "x": 0.05
          },
          "xaxis": {
           "automargin": true,
           "gridcolor": "white",
           "linecolor": "white",
           "ticks": "",
           "title": {
            "standoff": 15
           },
           "zerolinecolor": "white",
           "zerolinewidth": 2
          },
          "yaxis": {
           "automargin": true,
           "gridcolor": "white",
           "linecolor": "white",
           "ticks": "",
           "title": {
            "standoff": 15
           },
           "zerolinecolor": "white",
           "zerolinewidth": 2
          }
         }
        },
        "title": {
         "text": "Cluster Visualization on Choropleth Map"
        }
       }
      }
     },
     "metadata": {},
     "output_type": "display_data"
    }
   ],
   "source": [
    "\n",
    "\n",
    "# Create a Choropleth map with clusters\n",
    "fig = px.choropleth(\n",
    "    slopes_df,\n",
    "    locations='Country_ISO',\n",
    "    color='Cluster',\n",
    "    hover_name='Country',\n",
    "    color_continuous_scale=px.colors.sequential.Viridis,\n",
    "    title='Cluster Visualization on Choropleth Map'\n",
    ")\n",
    "\n",
    "fig.show()"
   ]
  },
  {
   "cell_type": "markdown",
   "metadata": {},
   "source": [
    "# ARIMA"
   ]
  },
  {
   "cell_type": "code",
   "execution_count": 10,
   "metadata": {},
   "outputs": [],
   "source": [
    "# Merge the two DataFrames based on the 'Country' column\n",
    "merged_df = pd.merge(df, slopes_df[['Country','Cluster']], on=['Country'], how='left')\n",
    "\n",
    "# Convert the 'Date' column to the index\n",
    "merged_df.set_index('dt', inplace=True)\n",
    "\n"
   ]
  },
  {
   "cell_type": "code",
   "execution_count": 46,
   "metadata": {},
   "outputs": [],
   "source": [
    "# # Merge the two DataFrames based on the 'Country' column\n",
    "# merged_df2 = pd.merge(df_country_year, slopes_df[['Country','Cluster']], on=['Country'], how='left')\n",
    "\n",
    "# # Convert the 'Date' column to the index\n",
    "# merged_df2.set_index('dt', inplace=True)\n",
    "# merged_df2"
   ]
  },
  {
   "cell_type": "code",
   "execution_count": 31,
   "metadata": {},
   "outputs": [
    {
     "data": {
      "text/html": [
       "<div>\n",
       "<style scoped>\n",
       "    .dataframe tbody tr th:only-of-type {\n",
       "        vertical-align: middle;\n",
       "    }\n",
       "\n",
       "    .dataframe tbody tr th {\n",
       "        vertical-align: top;\n",
       "    }\n",
       "\n",
       "    .dataframe thead th {\n",
       "        text-align: right;\n",
       "    }\n",
       "</style>\n",
       "<table border=\"1\" class=\"dataframe\">\n",
       "  <thead>\n",
       "    <tr style=\"text-align: right;\">\n",
       "      <th></th>\n",
       "      <th>Cluster</th>\n",
       "      <th>AverageTemperature</th>\n",
       "    </tr>\n",
       "    <tr>\n",
       "      <th>dt</th>\n",
       "      <th></th>\n",
       "      <th></th>\n",
       "    </tr>\n",
       "  </thead>\n",
       "  <tbody>\n",
       "    <tr>\n",
       "      <th>1743-11-01</th>\n",
       "      <td>0</td>\n",
       "      <td>3.352092</td>\n",
       "    </tr>\n",
       "    <tr>\n",
       "      <th>1744-04-01</th>\n",
       "      <td>0</td>\n",
       "      <td>9.360264</td>\n",
       "    </tr>\n",
       "    <tr>\n",
       "      <th>1744-05-01</th>\n",
       "      <td>0</td>\n",
       "      <td>12.601116</td>\n",
       "    </tr>\n",
       "    <tr>\n",
       "      <th>1744-06-01</th>\n",
       "      <td>0</td>\n",
       "      <td>17.321299</td>\n",
       "    </tr>\n",
       "    <tr>\n",
       "      <th>1744-07-01</th>\n",
       "      <td>0</td>\n",
       "      <td>18.833427</td>\n",
       "    </tr>\n",
       "    <tr>\n",
       "      <th>...</th>\n",
       "      <td>...</td>\n",
       "      <td>...</td>\n",
       "    </tr>\n",
       "    <tr>\n",
       "      <th>2013-05-01</th>\n",
       "      <td>2</td>\n",
       "      <td>24.614052</td>\n",
       "    </tr>\n",
       "    <tr>\n",
       "      <th>2013-06-01</th>\n",
       "      <td>2</td>\n",
       "      <td>24.093289</td>\n",
       "    </tr>\n",
       "    <tr>\n",
       "      <th>2013-07-01</th>\n",
       "      <td>2</td>\n",
       "      <td>23.679839</td>\n",
       "    </tr>\n",
       "    <tr>\n",
       "      <th>2013-08-01</th>\n",
       "      <td>2</td>\n",
       "      <td>23.986613</td>\n",
       "    </tr>\n",
       "    <tr>\n",
       "      <th>2013-09-01</th>\n",
       "      <td>2</td>\n",
       "      <td>27.726713</td>\n",
       "    </tr>\n",
       "  </tbody>\n",
       "</table>\n",
       "<p>9119 rows × 2 columns</p>\n",
       "</div>"
      ],
      "text/plain": [
       "            Cluster  AverageTemperature\n",
       "dt                                     \n",
       "1743-11-01        0            3.352092\n",
       "1744-04-01        0            9.360264\n",
       "1744-05-01        0           12.601116\n",
       "1744-06-01        0           17.321299\n",
       "1744-07-01        0           18.833427\n",
       "...             ...                 ...\n",
       "2013-05-01        2           24.614052\n",
       "2013-06-01        2           24.093289\n",
       "2013-07-01        2           23.679839\n",
       "2013-08-01        2           23.986613\n",
       "2013-09-01        2           27.726713\n",
       "\n",
       "[9119 rows x 2 columns]"
      ]
     },
     "execution_count": 31,
     "metadata": {},
     "output_type": "execute_result"
    }
   ],
   "source": [
    "\n",
    "# First, group by both 'Country' and year and calculate the mean temperature\n",
    "df_clusters = merged_df.groupby(['Cluster', merged_df.index])['AverageTemperature'].mean().reset_index()\n",
    "\n",
    "# Rename the columns for clarity\n",
    "df_clusters.columns = ['Cluster', 'dt', 'AverageTemperature']\n",
    "\n",
    "\n",
    "# Now, df_country_year contains the average temperature per year per country\n",
    "df_clusters = df_clusters.dropna()\n",
    "\n",
    "df_clusters = df_clusters.set_index(\"dt\")\n",
    "\n",
    "#df_clusters = df_clusters.loc[(df_clusters.index >= \"1800-01-01\") & (df_clusters.index <= \"2013-08-01\")]\n",
    "df_clusters"
   ]
  },
  {
   "cell_type": "code",
   "execution_count": 45,
   "metadata": {},
   "outputs": [],
   "source": [
    "# # First, group by both 'Country' and year and calculate the mean temperature\n",
    "# df_clusters2 = merged_df2.groupby(['Cluster', merged_df2.index])['AverageTemperature'].mean().reset_index()\n",
    "\n",
    "# # Rename the columns for clarity\n",
    "# df_clusters2.columns = ['Cluster', 'dt', 'AverageTemperature']\n",
    "\n",
    "\n",
    "# # Now, df_country_year contains the average temperature per year per country\n",
    "# df_clusters2 = df_clusters2.dropna()\n",
    "\n",
    "# df_clusters2 = df_clusters2.set_index(\"dt\")\n",
    "\n",
    "# df_clusters2 = df_clusters2.loc[(df_clusters2.index >= 1833) & (df_clusters2.index <= 2013)]\n",
    "# df_clusters2"
   ]
  },
  {
   "cell_type": "code",
   "execution_count": 32,
   "metadata": {},
   "outputs": [],
   "source": [
    "df_clusters = df_clusters.groupby(\"Cluster\",observed=False)\n",
    "\n",
    "# # rows = df_clusters.size()\n",
    "# # least_rows = rows.min()\n"
   ]
  },
  {
   "cell_type": "code",
   "execution_count": 15,
   "metadata": {},
   "outputs": [],
   "source": [
    "#df_clusters2 = df_clusters2.groupby(\"Cluster\",observed=False)"
   ]
  },
  {
   "cell_type": "code",
   "execution_count": 33,
   "metadata": {},
   "outputs": [
    {
     "name": "stdout",
     "output_type": "stream",
     "text": [
      "The best model according to MSE is p = 1, q = 10, with MSE = 0.00039200530598660016 !\n",
      "The best model according to RMSE is p = 1, q = 10, with RMSE = 0.01979912386916654 !\n",
      "The best model according to MSE is p = 3, q = 10, with MSE = 0.0028747248814036744 !\n",
      "The best model according to RMSE is p = 3, q = 10, with RMSE = 0.05361646091830077 !\n",
      "The best model according to MSE is p = 10, q = 3, with MSE = 0.0003089239129668577 !\n",
      "The best model according to RMSE is p = 10, q = 3, with RMSE = 0.01757623147796073 !\n"
     ]
    }
   ],
   "source": [
    "result_df = pd.DataFrame()\n",
    "\n",
    "# Initialize counters for stationary and non-stationary countries\n",
    "stationary_count_first_round = 0\n",
    "non_stationary_count_first_round = 0\n",
    "\n",
    "stationary_count_second_round = 0\n",
    "non_stationary_count_second_round = 0\n",
    "# Define the range of p and q values to search\n",
    "max_p = 10\n",
    "max_q = 10\n",
    "\n",
    "for i, j in df_clusters:\n",
    "    # Extract the last rows with similar shape\n",
    "    data = j.copy()\n",
    "    #data = data.tail(least_rows)\n",
    "    \n",
    "    # Perform seasonal decomposition\n",
    "    result = seasonal_decompose(data.AverageTemperature, model='additive', period=12)\n",
    "    \n",
    "    # Get the trend component and drop NaN values\n",
    "    trend_components = result.trend.dropna()\n",
    "    \n",
    "    # Ensure the indices match\n",
    "    trend_components.index = data.index[-len(trend_components):]\n",
    "    \n",
    "    # Add the 'Trend' column to the data DataFrame\n",
    "    data[\"Trend\"] = trend_components\n",
    "    \n",
    "    # Concatenate the current data DataFrame with the result DataFrame\n",
    "    data = data.dropna()\n",
    "    data_to_use = data[\"Trend\"]\n",
    "    data_to_use = pd.DataFrame(data_to_use)\n",
    "    data_to_use.rename(columns={\"Trend\": \"AverageTemperature\"}, inplace=True)\n",
    "    \n",
    "    # Check for stationarity using ADF test\n",
    "    adf = adf_check(data_to_use[\"AverageTemperature\"], \"AIC\")\n",
    "    \n",
    "    \n",
    "    # Check if p-value is less than 0.5\n",
    "    if adf[1] <= 0.05:\n",
    "        stationary_count_first_round += 1\n",
    "        # Time series is stationary\n",
    "        # Find the best (p, q) orders using the best_model_arma function\n",
    "        best_mse, best_rmse = best_model_arma(data_to_use, max_p, max_q)\n",
    "        # Run ARMA with the best (p, q) orders\n",
    "        results = ARMA(data_to_use, best_rmse[0], best_rmse[1])\n",
    "        \n",
    "        if results is not None:\n",
    "            a = results[0]\n",
    "            a[\"Cluster\"] = j[\"Cluster\"]\n",
    "            # a[\"Country_ISO\"] = j[\"Country_ISO\"]\n",
    "            result_df = pd.concat([result_df, a])\n",
    "    else:\n",
    "        non_stationary_count_first_round += 1\n",
    "        #Time series is non-stationary\n",
    "        # Perform necessary steps to make it stationary and then run ARMA\n",
    "        original_data = data_to_use.copy()\n",
    "        data_to_use[\"AverageTemperature\"] = data_to_use[\"AverageTemperature\"].diff().diff(12).dropna()\n",
    "        \n",
    "        data_to_use = data_to_use.dropna()\n",
    "        \n",
    "        adf = adf_check(data_to_use[\"AverageTemperature\"], \"AIC\")\n",
    "    \n",
    "        # Check if p-value is less than 0.5\n",
    "        if adf[1] <= 0.05:\n",
    "            stationary_count_second_round += 1\n",
    "            # Time series is stationary\n",
    "            # Find the best (p, q) orders using the best_model_arma function\n",
    "            best_mse, best_rmse = best_model_arma(data_to_use, max_p, max_q)\n",
    "            # Run ARMA with the best (p, q) orders\n",
    "            results = ARMA(data_to_use, best_rmse[0], best_rmse[1])\n",
    "        \n",
    "            if results is not None:\n",
    "                a = results[0]\n",
    "                #print(a)\n",
    "                a.AverageTemperature += a.shift(1).AverageTemperature\n",
    "                a.AverageTemperature += a.diff().shift(12).AverageTemperature\n",
    "                a.Predicted_Values += a.shift(1).Predicted_Values \n",
    "                a.Predicted_Values += a.diff().shift(12).Predicted_Values\n",
    "                a[\"Cluster\"] = j[\"Cluster\"]\n",
    "                # a[\"Country_ISO\"] = j[\"Country_ISO\"]\n",
    "                result_df = pd.concat([result_df, a])\n",
    "        else:\n",
    "            non_stationary_count_second_round += 1"
   ]
  },
  {
   "cell_type": "code",
   "execution_count": 37,
   "metadata": {},
   "outputs": [
    {
     "name": "stdout",
     "output_type": "stream",
     "text": [
      "1\n"
     ]
    },
    {
     "data": {
      "text/plain": [
       "2"
      ]
     },
     "execution_count": 37,
     "metadata": {},
     "output_type": "execute_result"
    }
   ],
   "source": [
    "print(stationary_count_second_round)\n",
    "stationary_count_first_round"
   ]
  },
  {
   "cell_type": "code",
   "execution_count": 35,
   "metadata": {},
   "outputs": [
    {
     "data": {
      "text/html": [
       "<div>\n",
       "<style scoped>\n",
       "    .dataframe tbody tr th:only-of-type {\n",
       "        vertical-align: middle;\n",
       "    }\n",
       "\n",
       "    .dataframe tbody tr th {\n",
       "        vertical-align: top;\n",
       "    }\n",
       "\n",
       "    .dataframe thead th {\n",
       "        text-align: right;\n",
       "    }\n",
       "</style>\n",
       "<table border=\"1\" class=\"dataframe\">\n",
       "  <thead>\n",
       "    <tr style=\"text-align: right;\">\n",
       "      <th></th>\n",
       "      <th>AverageTemperature</th>\n",
       "      <th>Shifted_values_1</th>\n",
       "      <th>Predicted_Values</th>\n",
       "      <th>Cluster</th>\n",
       "      <th>Shifted_values_2</th>\n",
       "      <th>Shifted_values_3</th>\n",
       "      <th>Shifted_values_4</th>\n",
       "      <th>Shifted_values_5</th>\n",
       "      <th>Shifted_values_6</th>\n",
       "      <th>Shifted_values_7</th>\n",
       "      <th>Shifted_values_8</th>\n",
       "      <th>Shifted_values_9</th>\n",
       "      <th>Shifted_values_10</th>\n",
       "    </tr>\n",
       "    <tr>\n",
       "      <th>dt</th>\n",
       "      <th></th>\n",
       "      <th></th>\n",
       "      <th></th>\n",
       "      <th></th>\n",
       "      <th></th>\n",
       "      <th></th>\n",
       "      <th></th>\n",
       "      <th></th>\n",
       "      <th></th>\n",
       "      <th></th>\n",
       "      <th></th>\n",
       "      <th></th>\n",
       "      <th></th>\n",
       "    </tr>\n",
       "  </thead>\n",
       "  <tbody>\n",
       "    <tr>\n",
       "      <th>1750-01-01</th>\n",
       "      <td>6.641557</td>\n",
       "      <td>6.926983</td>\n",
       "      <td>NaN</td>\n",
       "      <td>0</td>\n",
       "      <td>NaN</td>\n",
       "      <td>NaN</td>\n",
       "      <td>NaN</td>\n",
       "      <td>NaN</td>\n",
       "      <td>NaN</td>\n",
       "      <td>NaN</td>\n",
       "      <td>NaN</td>\n",
       "      <td>NaN</td>\n",
       "      <td>NaN</td>\n",
       "    </tr>\n",
       "    <tr>\n",
       "      <th>1750-02-01</th>\n",
       "      <td>5.675605</td>\n",
       "      <td>6.641557</td>\n",
       "      <td>NaN</td>\n",
       "      <td>0</td>\n",
       "      <td>NaN</td>\n",
       "      <td>NaN</td>\n",
       "      <td>NaN</td>\n",
       "      <td>NaN</td>\n",
       "      <td>NaN</td>\n",
       "      <td>NaN</td>\n",
       "      <td>NaN</td>\n",
       "      <td>NaN</td>\n",
       "      <td>NaN</td>\n",
       "    </tr>\n",
       "    <tr>\n",
       "      <th>1750-03-01</th>\n",
       "      <td>4.592576</td>\n",
       "      <td>5.675605</td>\n",
       "      <td>NaN</td>\n",
       "      <td>0</td>\n",
       "      <td>NaN</td>\n",
       "      <td>NaN</td>\n",
       "      <td>NaN</td>\n",
       "      <td>NaN</td>\n",
       "      <td>NaN</td>\n",
       "      <td>NaN</td>\n",
       "      <td>NaN</td>\n",
       "      <td>NaN</td>\n",
       "      <td>NaN</td>\n",
       "    </tr>\n",
       "    <tr>\n",
       "      <th>1750-04-01</th>\n",
       "      <td>3.585296</td>\n",
       "      <td>4.592576</td>\n",
       "      <td>NaN</td>\n",
       "      <td>0</td>\n",
       "      <td>NaN</td>\n",
       "      <td>NaN</td>\n",
       "      <td>NaN</td>\n",
       "      <td>NaN</td>\n",
       "      <td>NaN</td>\n",
       "      <td>NaN</td>\n",
       "      <td>NaN</td>\n",
       "      <td>NaN</td>\n",
       "      <td>NaN</td>\n",
       "    </tr>\n",
       "    <tr>\n",
       "      <th>1750-05-01</th>\n",
       "      <td>3.138792</td>\n",
       "      <td>3.585296</td>\n",
       "      <td>NaN</td>\n",
       "      <td>0</td>\n",
       "      <td>NaN</td>\n",
       "      <td>NaN</td>\n",
       "      <td>NaN</td>\n",
       "      <td>NaN</td>\n",
       "      <td>NaN</td>\n",
       "      <td>NaN</td>\n",
       "      <td>NaN</td>\n",
       "      <td>NaN</td>\n",
       "      <td>NaN</td>\n",
       "    </tr>\n",
       "    <tr>\n",
       "      <th>...</th>\n",
       "      <td>...</td>\n",
       "      <td>...</td>\n",
       "      <td>...</td>\n",
       "      <td>...</td>\n",
       "      <td>...</td>\n",
       "      <td>...</td>\n",
       "      <td>...</td>\n",
       "      <td>...</td>\n",
       "      <td>...</td>\n",
       "      <td>...</td>\n",
       "      <td>...</td>\n",
       "      <td>...</td>\n",
       "      <td>...</td>\n",
       "    </tr>\n",
       "    <tr>\n",
       "      <th>2013-05-01</th>\n",
       "      <td>0.021663</td>\n",
       "      <td>0.024518</td>\n",
       "      <td>-0.004594</td>\n",
       "      <td>2</td>\n",
       "      <td>0.011651</td>\n",
       "      <td>0.019056</td>\n",
       "      <td>0.007710</td>\n",
       "      <td>0.000395</td>\n",
       "      <td>0.015585</td>\n",
       "      <td>0.015840</td>\n",
       "      <td>0.013954</td>\n",
       "      <td>0.020212</td>\n",
       "      <td>0.009647</td>\n",
       "    </tr>\n",
       "    <tr>\n",
       "      <th>2013-06-01</th>\n",
       "      <td>0.036717</td>\n",
       "      <td>0.037670</td>\n",
       "      <td>0.009208</td>\n",
       "      <td>2</td>\n",
       "      <td>0.024518</td>\n",
       "      <td>0.011651</td>\n",
       "      <td>0.019056</td>\n",
       "      <td>0.007710</td>\n",
       "      <td>0.000395</td>\n",
       "      <td>0.015585</td>\n",
       "      <td>0.015840</td>\n",
       "      <td>0.013954</td>\n",
       "      <td>0.020212</td>\n",
       "    </tr>\n",
       "    <tr>\n",
       "      <th>2013-07-01</th>\n",
       "      <td>0.016049</td>\n",
       "      <td>0.015130</td>\n",
       "      <td>0.019995</td>\n",
       "      <td>2</td>\n",
       "      <td>0.037670</td>\n",
       "      <td>0.024518</td>\n",
       "      <td>0.011651</td>\n",
       "      <td>0.019056</td>\n",
       "      <td>0.007710</td>\n",
       "      <td>0.000395</td>\n",
       "      <td>0.015585</td>\n",
       "      <td>0.015840</td>\n",
       "      <td>0.013954</td>\n",
       "    </tr>\n",
       "    <tr>\n",
       "      <th>2013-08-01</th>\n",
       "      <td>-0.006060</td>\n",
       "      <td>0.008167</td>\n",
       "      <td>-0.007072</td>\n",
       "      <td>2</td>\n",
       "      <td>0.015130</td>\n",
       "      <td>0.037670</td>\n",
       "      <td>0.024518</td>\n",
       "      <td>0.011651</td>\n",
       "      <td>0.019056</td>\n",
       "      <td>0.007710</td>\n",
       "      <td>0.000395</td>\n",
       "      <td>0.015585</td>\n",
       "      <td>0.015840</td>\n",
       "    </tr>\n",
       "    <tr>\n",
       "      <th>2013-09-01</th>\n",
       "      <td>0.105443</td>\n",
       "      <td>-0.014995</td>\n",
       "      <td>-0.004556</td>\n",
       "      <td>2</td>\n",
       "      <td>0.008167</td>\n",
       "      <td>0.015130</td>\n",
       "      <td>0.037670</td>\n",
       "      <td>0.024518</td>\n",
       "      <td>0.011651</td>\n",
       "      <td>0.019056</td>\n",
       "      <td>0.007710</td>\n",
       "      <td>0.000395</td>\n",
       "      <td>0.015585</td>\n",
       "    </tr>\n",
       "  </tbody>\n",
       "</table>\n",
       "<p>9056 rows × 13 columns</p>\n",
       "</div>"
      ],
      "text/plain": [
       "            AverageTemperature  Shifted_values_1  Predicted_Values  Cluster  \\\n",
       "dt                                                                            \n",
       "1750-01-01            6.641557          6.926983               NaN        0   \n",
       "1750-02-01            5.675605          6.641557               NaN        0   \n",
       "1750-03-01            4.592576          5.675605               NaN        0   \n",
       "1750-04-01            3.585296          4.592576               NaN        0   \n",
       "1750-05-01            3.138792          3.585296               NaN        0   \n",
       "...                        ...               ...               ...      ...   \n",
       "2013-05-01            0.021663          0.024518         -0.004594        2   \n",
       "2013-06-01            0.036717          0.037670          0.009208        2   \n",
       "2013-07-01            0.016049          0.015130          0.019995        2   \n",
       "2013-08-01           -0.006060          0.008167         -0.007072        2   \n",
       "2013-09-01            0.105443         -0.014995         -0.004556        2   \n",
       "\n",
       "            Shifted_values_2  Shifted_values_3  Shifted_values_4  \\\n",
       "dt                                                                 \n",
       "1750-01-01               NaN               NaN               NaN   \n",
       "1750-02-01               NaN               NaN               NaN   \n",
       "1750-03-01               NaN               NaN               NaN   \n",
       "1750-04-01               NaN               NaN               NaN   \n",
       "1750-05-01               NaN               NaN               NaN   \n",
       "...                      ...               ...               ...   \n",
       "2013-05-01          0.011651          0.019056          0.007710   \n",
       "2013-06-01          0.024518          0.011651          0.019056   \n",
       "2013-07-01          0.037670          0.024518          0.011651   \n",
       "2013-08-01          0.015130          0.037670          0.024518   \n",
       "2013-09-01          0.008167          0.015130          0.037670   \n",
       "\n",
       "            Shifted_values_5  Shifted_values_6  Shifted_values_7  \\\n",
       "dt                                                                 \n",
       "1750-01-01               NaN               NaN               NaN   \n",
       "1750-02-01               NaN               NaN               NaN   \n",
       "1750-03-01               NaN               NaN               NaN   \n",
       "1750-04-01               NaN               NaN               NaN   \n",
       "1750-05-01               NaN               NaN               NaN   \n",
       "...                      ...               ...               ...   \n",
       "2013-05-01          0.000395          0.015585          0.015840   \n",
       "2013-06-01          0.007710          0.000395          0.015585   \n",
       "2013-07-01          0.019056          0.007710          0.000395   \n",
       "2013-08-01          0.011651          0.019056          0.007710   \n",
       "2013-09-01          0.024518          0.011651          0.019056   \n",
       "\n",
       "            Shifted_values_8  Shifted_values_9  Shifted_values_10  \n",
       "dt                                                                 \n",
       "1750-01-01               NaN               NaN                NaN  \n",
       "1750-02-01               NaN               NaN                NaN  \n",
       "1750-03-01               NaN               NaN                NaN  \n",
       "1750-04-01               NaN               NaN                NaN  \n",
       "1750-05-01               NaN               NaN                NaN  \n",
       "...                      ...               ...                ...  \n",
       "2013-05-01          0.013954          0.020212           0.009647  \n",
       "2013-06-01          0.015840          0.013954           0.020212  \n",
       "2013-07-01          0.015585          0.015840           0.013954  \n",
       "2013-08-01          0.000395          0.015585           0.015840  \n",
       "2013-09-01          0.007710          0.000395           0.015585  \n",
       "\n",
       "[9056 rows x 13 columns]"
      ]
     },
     "execution_count": 35,
     "metadata": {},
     "output_type": "execute_result"
    }
   ],
   "source": [
    "result_df"
   ]
  },
  {
   "cell_type": "code",
   "execution_count": 40,
   "metadata": {},
   "outputs": [
    {
     "data": {
      "image/png": "[encoded data removed]",
      "text/plain": [
       "<Figure size 1000x600 with 1 Axes>"
      ]
     },
     "metadata": {},
     "output_type": "display_data"
    },
    {
     "data": {
      "image/png": "[encoded data removed]",
      "text/plain": [
       "<Figure size 1000x600 with 1 Axes>"
      ]
     },
     "metadata": {},
     "output_type": "display_data"
    },
    {
     "data": {
      "image/png": "[encoded data removed]",
      "text/plain": [
       "<Figure size 1000x600 with 1 Axes>"
      ]
     },
     "metadata": {},
     "output_type": "display_data"
    }
   ],
   "source": [
    "result_df = result_df.loc[(result_df.index >= \"2000-01-01\") & (result_df.index <= \"2012-12-01\")]\n",
    "unique_clusters = result_df['Cluster'].unique()\n",
    "\n",
    "# Plotting for each cluster\n",
    "for cluster in unique_clusters:\n",
    "    cluster_data = result_df[result_df['Cluster'] == cluster]\n",
    "    \n",
    "    # Create a line plot for 'AverageTemperature' and 'Predicted_Values'\n",
    "    plt.figure(figsize=(10, 6))\n",
    "    sns.lineplot(x=cluster_data.index, y=cluster_data['AverageTemperature'], label='Actual Temperature')\n",
    "    sns.lineplot(x=cluster_data.index, y=cluster_data['Predicted_Values'], label='Predicted Temperature')\n",
    "    \n",
    "    # Set titles and labels\n",
    "    plt.xlabel('Date')\n",
    "    plt.ylabel('Temperature')\n",
    "    plt.title(f'Actual trend vs Predicted Temperature trend') #Cluster {cluster}\n",
    "    plt.legend()\n",
    "    \n",
    "    # Show the plot\n",
    "    plt.show()"
   ]
  },
  {
   "cell_type": "code",
   "execution_count": 43,
   "metadata": {},
   "outputs": [],
   "source": [
    "# result_df2 = pd.DataFrame()\n",
    "\n",
    "# # Initialize counters for stationary and non-stationary countries\n",
    "# stationary_count_first_round = 0\n",
    "# non_stationary_count_first_round = 0\n",
    "\n",
    "# stationary_count_second_round = 0\n",
    "# non_stationary_count_second_round = 0\n",
    "# # Define the range of p and q values to search\n",
    "# max_p = 10\n",
    "# max_q = 10\n",
    "\n",
    "# for i, j in df_clusters2:\n",
    "#     # Extract the last rows with similar shape\n",
    "#     data = j.copy()\n",
    "#     #data = data.tail(least_rows)\n",
    "    \n",
    "#     # # Perform seasonal decomposition\n",
    "#     # result = seasonal_decompose(data.AverageTemperature, model='additive', period=1)\n",
    "    \n",
    "#     # # Get the trend component and drop NaN values\n",
    "#     # trend_components = result.trend.dropna()\n",
    "    \n",
    "#     # # Ensure the indices match\n",
    "#     # trend_components.index = data.index[-len(trend_components):]\n",
    "    \n",
    "#     # # Add the 'Trend' column to the data DataFrame\n",
    "#     # data[\"Trend\"] = trend_components\n",
    "    \n",
    "#     # Concatenate the current data DataFrame with the result DataFrame\n",
    "#     data = data.dropna()\n",
    "#     data_to_use = data[\"AverageTemperature\"]\n",
    "#     data_to_use = pd.DataFrame(data_to_use)\n",
    "#     #data_to_use.rename(columns={\"Trend\": \"AverageTemperature\"}, inplace=True)\n",
    "    \n",
    "#     # Check for stationarity using ADF test\n",
    "#     adf = adf_check(data_to_use[\"AverageTemperature\"], \"AIC\")\n",
    "    \n",
    "    \n",
    "#     # Check if p-value is less than 0.5\n",
    "#     if adf[1] <= 0.05:\n",
    "#         stationary_count_first_round += 1\n",
    "#         # Time series is stationary\n",
    "#         # Find the best (p, q) orders using the best_model_arma function\n",
    "#         best_mse, best_rmse = best_model_arma(data_to_use, max_p, max_q)\n",
    "#         # Run ARMA with the best (p, q) orders\n",
    "#         results = ARMA(data_to_use, best_rmse[0], best_rmse[1])\n",
    "        \n",
    "#         if results is not None:\n",
    "#             a = results[0]\n",
    "#             a[\"Cluster\"] = j[\"Cluster\"]\n",
    "#             # a[\"Country_ISO\"] = j[\"Country_ISO\"]\n",
    "#             result_df2 = pd.concat([result_df2, a])\n",
    "#     else:\n",
    "#         non_stationary_count_first_round += 1\n",
    "#         #Time series is non-stationary\n",
    "#         # Perform necessary steps to make it stationary and then run ARMA\n",
    "#         original_data = data_to_use.copy()\n",
    "#         data_to_use[\"AverageTemperature\"] = data_to_use[\"AverageTemperature\"].diff().diff(1).dropna()\n",
    "        \n",
    "#         data_to_use = data_to_use.dropna()\n",
    "        \n",
    "#         adf = adf_check(data_to_use[\"AverageTemperature\"], \"AIC\")\n",
    "    \n",
    "#         # Check if p-value is less than 0.5\n",
    "#         if adf[1] <= 0.05:\n",
    "#             stationary_count_second_round += 1\n",
    "#             # Time series is stationary\n",
    "#             # Find the best (p, q) orders using the best_model_arma function\n",
    "#             best_mse, best_rmse = best_model_arma(data_to_use, max_p, max_q)\n",
    "#             # Run ARMA with the best (p, q) orders\n",
    "#             results = ARMA(data_to_use, best_rmse[0], best_rmse[1])\n",
    "        \n",
    "#             if results is not None:\n",
    "#                 a = results[0]\n",
    "#                 #print(a)\n",
    "#                 a.AverageTemperature += a.shift(1).AverageTemperature\n",
    "#                 a.AverageTemperature += a.diff().shift(1).AverageTemperature\n",
    "#                 a.Predicted_Values += a.shift(1).Predicted_Values \n",
    "#                 a.Predicted_Values += a.diff().shift(1).Predicted_Values\n",
    "#                 a[\"Cluster\"] = j[\"Cluster\"]\n",
    "#                 # a[\"Country_ISO\"] = j[\"Country_ISO\"]\n",
    "#                 result_df2 = pd.concat([result_df2, a])\n",
    "#         else:\n",
    "#             non_stationary_count_second_round += 1"
   ]
  },
  {
   "cell_type": "code",
   "execution_count": 42,
   "metadata": {},
   "outputs": [],
   "source": [
    "# result_df2.head(30)"
   ]
  },
  {
   "cell_type": "markdown",
   "metadata": {},
   "source": []
  },
  {
   "cell_type": "code",
   "execution_count": 41,
   "metadata": {},
   "outputs": [],
   "source": [
    "# result_df2 = result_df2.loc[(result_df2.index >= 1950) & (result_df2.index <= 2012)]\n",
    "# unique_clusters = result_df2['Cluster'].unique()\n",
    "\n",
    "# # Plotting for each cluster\n",
    "# for cluster in unique_clusters:\n",
    "#     cluster_data = result_df2[result_df2['Cluster'] == cluster]\n",
    "    \n",
    "#     # Create a line plot for 'AverageTemperature' and 'Predicted_Values'\n",
    "#     plt.figure(figsize=(10, 6))\n",
    "#     sns.lineplot(x=cluster_data.index, y=cluster_data['AverageTemperature'], label='Actual Temperature')\n",
    "#     sns.lineplot(x=cluster_data.index, y=cluster_data['Predicted_Values'], label='Predicted Temperature')\n",
    "    \n",
    "#     # Set titles and labels\n",
    "#     plt.xlabel('Date')\n",
    "#     plt.ylabel('Temperature')\n",
    "#     plt.title(f'Actual vs Predicted Temperature - Cluster {cluster}')\n",
    "#     plt.legend()\n",
    "    \n",
    "#     # Show the plot\n",
    "#     plt.show()"
   ]
  },
  {
   "cell_type": "code",
   "execution_count": null,
   "metadata": {},
   "outputs": [],
   "source": []
  }
 ],
 "metadata": {
  "kernelspec": {
   "display_name": ".venv",
   "language": "python",
   "name": "python3"
  },
  "language_info": {
   "codemirror_mode": {
    "name": "ipython",
    "version": 3
   },
   "file_extension": ".py",
   "mimetype": "text/x-python",
   "name": "python",
   "nbconvert_exporter": "python",
   "pygments_lexer": "ipython3",
   "version": "3.9.4"
  }
 },
 "nbformat": 4,
 "nbformat_minor": 2
}
